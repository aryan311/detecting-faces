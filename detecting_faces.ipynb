{
  "nbformat": 4,
  "nbformat_minor": 0,
  "metadata": {
    "colab": {
      "provenance": []
    },
    "kernelspec": {
      "name": "python3",
      "display_name": "Python 3"
    },
    "language_info": {
      "name": "python"
    },
    "accelerator": "GPU",
    "gpuClass": "standard"
  },
  "cells": [
    {
      "cell_type": "code",
      "execution_count": 4,
      "metadata": {
        "id": "n_YBhQ3dJUYq"
      },
      "outputs": [],
      "source": [
        "#code to detect faces in a given picture"
      ]
    },
    {
      "cell_type": "code",
      "source": [
        "import cv2"
      ],
      "metadata": {
        "id": "AzF-N5ubJjSn"
      },
      "execution_count": 5,
      "outputs": []
    },
    {
      "cell_type": "code",
      "source": [
        "# Load the cascade classifier\n",
        "face_cascade = cv2.CascadeClassifier('haarcascade_frontalface_default.xml')"
      ],
      "metadata": {
        "id": "cLNaPCmRJVRz"
      },
      "execution_count": 6,
      "outputs": []
    },
    {
      "cell_type": "code",
      "source": [
        "# Read the image\n",
        "img = cv2.imread('image.jpg')\n",
        "#image.jpg is the name of the image"
      ],
      "metadata": {
        "id": "gwvyJotqJiNe"
      },
      "execution_count": null,
      "outputs": []
    },
    {
      "cell_type": "code",
      "source": [
        "# Convert the image to grayscale\n",
        "gray = cv2.cvtColor(img, cv2.COLOR_BGR2GRAY)"
      ],
      "metadata": {
        "id": "jEo1aB9RJ1jK"
      },
      "execution_count": null,
      "outputs": []
    },
    {
      "cell_type": "code",
      "source": [
        "# Detect faces\n",
        "faces = face_cascade.detectMultiScale(gray, 1.1, 4)"
      ],
      "metadata": {
        "id": "mzVvbim0J2x6"
      },
      "execution_count": null,
      "outputs": []
    },
    {
      "cell_type": "code",
      "source": [
        "# Draw a rectangle around the faces\n",
        "for (x, y, w, h) in faces:\n",
        "    cv2.rectangle(img, (x, y), (x + w, y + h), (255, 0, 0), 2)"
      ],
      "metadata": {
        "id": "4FNXxRoxJ5Sb"
      },
      "execution_count": null,
      "outputs": []
    },
    {
      "cell_type": "code",
      "source": [
        "# Show the image\n",
        "cv2.imshow('img', img)\n",
        "cv2.waitKey()\n",
        "cv2.destroyAllWindows()"
      ],
      "metadata": {
        "id": "qzkwV-YhJ884"
      },
      "execution_count": null,
      "outputs": []
    }
  ]
}